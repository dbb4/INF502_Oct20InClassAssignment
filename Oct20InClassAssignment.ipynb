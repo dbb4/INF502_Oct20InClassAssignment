{
 "cells": [
  {
   "cell_type": "markdown",
   "metadata": {},
   "source": [
    "# October 20th In-Class Assignment\n",
    "## Team: Bill Roth and David Brink"
   ]
  },
  {
   "cell_type": "markdown",
   "metadata": {},
   "source": [
    "## Following is the initial class definition given to us"
   ]
  },
  {
   "cell_type": "code",
   "execution_count": null,
   "metadata": {},
   "outputs": [],
   "source": [
    "class Calculator: \n",
    "   def add(x, y):\n",
    "      return x + y \n",
    "\n",
    "   def subtract(x, y): \n",
    "      return x - y \n",
    "\n",
    "   def multiply(x, y): \n",
    "      return x * y \n",
    "\n",
    "   def divide(x, y): \n",
    "      return x / y\n",
    "\n",
    "   def pow(x, y):\n",
    "      res = 1\n",
    "      for i in range(2,y):\n",
    "         res = res*i"
   ]
  },
  {
   "cell_type": "markdown",
   "metadata": {},
   "source": [
    "## Testing the add() function"
   ]
  },
  {
   "cell_type": "markdown",
   "metadata": {},
   "source": [
    "#### The following tests for the add function passed"
   ]
  },
  {
   "cell_type": "code",
   "execution_count": null,
   "metadata": {},
   "outputs": [],
   "source": [
    "from CalculatorClass import Calculator\n",
    "import unittest\n",
    "\n",
    "class TestStringMethods(unittest.TestCase):\n",
    "\n",
    "    def test_add_positive(self):\n",
    "        self.assertEqual(Calculator.add(3,5),8,\"Test failed, add(3,5) should equal 8\")\n",
    "        \n",
    "    def test_add_negative(self):\n",
    "        self.assertEqual(Calculator.add(-3,5),2,\"Test failed, add(-3,5) should equal 2\")\n",
    "\n",
    "    def test_add_zero(self):\n",
    "        self.assertEqual(Calculator.add(0,-5),-5,\"Test failed, add(0,-5) should equal -5\")\n",
    "\n",
    "if __name__ == '__main__':\n",
    "    unittest.main()"
   ]
  },
  {
   "cell_type": "markdown",
   "metadata": {},
   "source": [
    "#### Then we added the following test which did not pass"
   ]
  },
  {
   "cell_type": "code",
   "execution_count": null,
   "metadata": {},
   "outputs": [],
   "source": [
    "    def test_add_none(self):\n",
    "        self.assertEqual(Calculator.add(None,-5),-5,\"Test failed, add(None,-5) should equal -5\")"
   ]
  },
  {
   "cell_type": "markdown",
   "metadata": {},
   "source": [
    "So we updated the class code to handle None"
   ]
  },
  {
   "cell_type": "code",
   "execution_count": null,
   "metadata": {},
   "outputs": [],
   "source": [
    "class Calculator: \n",
    "   def add(x, y):\n",
    "      if x is None:\n",
    "         x = 0\n",
    "      if y is None:\n",
    "         y = 0\n",
    "      return x + y\n",
    "\n",
    "   def subtract(x, y):\n",
    "      if x is None:\n",
    "         x = 0\n",
    "      if y is None:\n",
    "         y = 0\n",
    "      return x - y \n",
    "\n",
    "   def multiply(x, y):\n",
    "      if x is None:\n",
    "         x = 0\n",
    "      if y is None:\n",
    "         y = 0\n",
    "      return x * y \n",
    "\n",
    "   def divide(x, y):\n",
    "      if x is None:\n",
    "         x = 0\n",
    "      if y is None:\n",
    "         y = 0\n",
    "      return x / y\n",
    "\n",
    "   def pow(x, y):\n",
    "      if x is None:\n",
    "         x = 0\n",
    "      if y is None:\n",
    "         y = 0\n",
    "      res = 1\n",
    "      for i in range(2,y):\n",
    "         res = res*i"
   ]
  },
  {
   "cell_type": "markdown",
   "metadata": {},
   "source": [
    "And then we added the following test to confirm we are handling None correctly (it did)"
   ]
  },
  {
   "cell_type": "code",
   "execution_count": null,
   "metadata": {},
   "outputs": [],
   "source": [
    "    def test_add_none_reverse(self):\n",
    "        self.assertEqual(Calculator.add(3,None),3,\"Test failed, add(3,None) should equal -3\")"
   ]
  },
  {
   "cell_type": "markdown",
   "metadata": {},
   "source": [
    "Testing for floating point inputs passes:"
   ]
  },
  {
   "cell_type": "code",
   "execution_count": null,
   "metadata": {},
   "outputs": [],
   "source": [
    "    def test_add_decimals(self):\n",
    "        self.assertEqual(Calculator.add(3.5,3.8),7.3,\"Test failed, add(3.5,3.8) should equal 7.3\")"
   ]
  },
  {
   "cell_type": "markdown",
   "metadata": {},
   "source": [
    "Testing for strings as one of the inputs (for y in this case):"
   ]
  },
  {
   "cell_type": "code",
   "execution_count": null,
   "metadata": {},
   "outputs": [],
   "source": [
    "    def test_add_letters(self):\n",
    "        with self.assertRaises(TypeError,msg=\"Test failed, TypeError not raised when add(3.5,\\\"abc\\\") is called\"):\n",
    "            Calculator.add(3.5,\"abc\")"
   ]
  },
  {
   "cell_type": "markdown",
   "metadata": {},
   "source": [
    "This test checks to see that the correct error is raised when two non-numeric values are passed in as parameters:"
   ]
  },
  {
   "cell_type": "code",
   "execution_count": null,
   "metadata": {},
   "outputs": [],
   "source": [
    "    def test_add_letters_to_letters(self):\n",
    "        with self.assertRaises(TypeError,msg=\"Test failed, TypeError not raised when add(\\\"def\\\",\\\"abc\\\") is called\"):\n",
    "            Calculator.add(\"def\",\"abc\")"
   ]
  },
  {
   "cell_type": "markdown",
   "metadata": {},
   "source": [
    "In the case above, the two strings were concatenated (instead of returning an error) so to solve all issues of users inputting strings for the value of 'x' or 'y', we added code to raise an error:"
   ]
  },
  {
   "cell_type": "code",
   "execution_count": null,
   "metadata": {},
   "outputs": [],
   "source": [
    "class Calculator: \n",
    "   def add(x, y):\n",
    "      if x is None:\n",
    "         x = 0\n",
    "      if y is None:\n",
    "         y = 0\n",
    "      if isinstance(x,(int,float)) == False or isinstance(y,(int,float)) == False:\n",
    "         raise TypeError(\"Both parameters in the function need to be numeric\")\n",
    "      return x + y\n",
    "\n",
    "   def subtract(x, y):\n",
    "      if x is None:\n",
    "         x = 0\n",
    "      if y is None:\n",
    "         y = 0\n",
    "      if isinstance(x, (int, float)) == False or isinstance(y, (int, float)) == False:\n",
    "         raise TypeError(\"Both parameters in the function need to be numeric\")\n",
    "      return x - y\n",
    "\n",
    "   def multiply(x, y):\n",
    "      if x is None:\n",
    "         x = 0\n",
    "      if y is None:\n",
    "         y = 0\n",
    "      if isinstance(x, (int, float)) == False or isinstance(y, (int, float)) == False:\n",
    "         raise TypeError(\"Both parameters in the function need to be numeric\")\n",
    "      return x * y\n",
    "\n",
    "   def divide(x, y):\n",
    "      if x is None:\n",
    "         x = 0\n",
    "      if y is None:\n",
    "         y = 0\n",
    "      if isinstance(x, (int, float)) == False or isinstance(y, (int, float)) == False:\n",
    "         raise TypeError(\"Both parameters in the function need to be numeric\")\n",
    "      return x / y\n",
    "\n",
    "   def pow(x, y):\n",
    "      if x is None:\n",
    "         x = 0\n",
    "      if y is None:\n",
    "         y = 0\n",
    "      if isinstance(x, (int, float)) == False or isinstance(y, (int, float)) == False:\n",
    "         raise TypeError(\"Both parameters in the function need to be numeric\")\n",
    "      res = 1\n",
    "      for i in range(2,y):\n",
    "         res = res*i"
   ]
  },
  {
   "cell_type": "markdown",
   "metadata": {},
   "source": [
    "## Testing the subtract() function"
   ]
  },
  {
   "cell_type": "markdown",
   "metadata": {},
   "source": [
    "The following test checks that basic subtraction with integers works correctly"
   ]
  },
  {
   "cell_type": "code",
   "execution_count": null,
   "metadata": {},
   "outputs": [],
   "source": [
    "    def test_subtract_positive(self):\n",
    "        self.assertEqual(Calculator.subtract(3, 5), -2, \"Test failed, subtract(3,5) should equal -2\")"
   ]
  },
  {
   "cell_type": "markdown",
   "metadata": {},
   "source": [
    "The top test checks that floating points subtracted from floating points works correctly:\n",
    "\n",
    "Note: this test 'failed' for the following reason:\n",
    "\n",
    ">Test failed, subtracting (3.8,3.5) should equal 0.3  \n",
    ">0.3 != 0.2999999999999998\n",
    "\n",
    "The bottom test is what we did to account for the floating point error"
   ]
  },
  {
   "cell_type": "code",
   "execution_count": null,
   "metadata": {},
   "outputs": [],
   "source": [
    "    def test_subtract_decimals(self):\n",
    "        self.assertEqual(Calculator.subtract(3.8, 3.5), 0.3, \"Test failed, subtract(3.8,3.5) should equal 0.3\")\n",
    "        \n",
    "    def test_subtract_decimals(self):\n",
    "        difference = abs(Calculator.subtract(3.8, 3.5) - 0.3)\n",
    "        self.assertLessEqual(difference, 0.001, \"Test failed, subtract(3.8,3.5) should be within 0.001 of 0.3\")"
   ]
  },
  {
   "cell_type": "markdown",
   "metadata": {},
   "source": [
    "This test confirms that \"None\" is handled correctly in the subtract function"
   ]
  },
  {
   "cell_type": "code",
   "execution_count": null,
   "metadata": {},
   "outputs": [],
   "source": [
    "    def test_subtract_none(self):\n",
    "        self.assertEqual(Calculator.subtract(3, None), 3, \"Test failed, subtract(3,None) should equal 3\")"
   ]
  },
  {
   "cell_type": "markdown",
   "metadata": {},
   "source": [
    "This test confirms that an appropriate error is raised when non-numeric values are used as parameters for the subtract function"
   ]
  },
  {
   "cell_type": "code",
   "execution_count": null,
   "metadata": {},
   "outputs": [],
   "source": [
    "    def test_subtract_letters_from_letters(self):\n",
    "        with self.assertRaises(TypeError, msg=\"Test failed, TypeError not raised when subtracting (\\\"def\\\",\\\"abc\\\") is called\"):\n",
    "            Calculator.subtract(\"def\", \"abc\")"
   ]
  },
  {
   "cell_type": "markdown",
   "metadata": {},
   "source": [
    "## Tests for the multiply() function"
   ]
  },
  {
   "cell_type": "markdown",
   "metadata": {},
   "source": [
    "This test confirms that multiplication with two integers works as expected"
   ]
  },
  {
   "cell_type": "code",
   "execution_count": null,
   "metadata": {},
   "outputs": [],
   "source": [
    "    def test_multiply_positive(self):\n",
    "        self.assertEqual(Calculator.multiply(3, 5), 15, \"Test failed, multiply(3,5) should equal 15\")"
   ]
  },
  {
   "cell_type": "markdown",
   "metadata": {},
   "source": [
    "This test confirms that multiply works as expected with a zero parameter"
   ]
  },
  {
   "cell_type": "code",
   "execution_count": null,
   "metadata": {},
   "outputs": [],
   "source": [
    "    def test_multiply_zero(self):\n",
    "        self.assertEqual(Calculator.multiply(3, 0), 0, \"Test failed, multiply(3,0) should equal 0\")"
   ]
  },
  {
   "cell_type": "markdown",
   "metadata": {},
   "source": [
    "This test confirms that multiply works with one negative number"
   ]
  },
  {
   "cell_type": "code",
   "execution_count": null,
   "metadata": {},
   "outputs": [],
   "source": [
    "    def test_multiply_one_negative_num(self):\n",
    "        self.assertEqual(Calculator.multiply(3, -5), -15, \"Test failed, multiply(3,-5) should equal -15\")"
   ]
  },
  {
   "cell_type": "markdown",
   "metadata": {},
   "source": [
    "This test confirms that multiply works correctly with two negative numbers\n"
   ]
  },
  {
   "cell_type": "code",
   "execution_count": null,
   "metadata": {},
   "outputs": [],
   "source": [
    "   def test_multiply_two_negative_num(self):\n",
    "        self.assertEqual(Calculator.multiply(-3, -5), 15, \"Test failed, multiply(-3, -5) should equal 15\")"
   ]
  },
  {
   "cell_type": "markdown",
   "metadata": {},
   "source": [
    "This test confirms that multiply works with None correctly"
   ]
  },
  {
   "cell_type": "code",
   "execution_count": null,
   "metadata": {},
   "outputs": [],
   "source": [
    "   def test_multiply_none(self):\n",
    "        self.assertEqual(Calculator.multiply(None, 5), 0, \"Test failed, multiply(None, 5) should equal 0\")"
   ]
  },
  {
   "cell_type": "markdown",
   "metadata": {},
   "source": [
    "This test confirms that multiply can handle strings as inputs"
   ]
  },
  {
   "cell_type": "code",
   "execution_count": null,
   "metadata": {},
   "outputs": [],
   "source": [
    "    def test_multiply_strings(self):\n",
    "        with self.assertRaises(TypeError, msg=\"Test failed, TypeError not raised when multiplying (\\\"def\\\",\\\"abc\\\") is called\"):\n",
    "            Calculator.multiply(\"def\", \"abc\")"
   ]
  },
  {
   "cell_type": "markdown",
   "metadata": {},
   "source": [
    "This test confirms that multiply can handle non-numeric parameters as inputs (a list, in this case)"
   ]
  },
  {
   "cell_type": "code",
   "execution_count": null,
   "metadata": {},
   "outputs": [],
   "source": [
    "    def test_multiply_list(self):\n",
    "        with self.assertRaises(TypeError, msg=\"Test failed, TypeError not raised when multiplying (\\\"def\\\",\\\"abc\\\") is called\"):\n",
    "            Calculator.multiply([2,3,4], 1)"
   ]
  },
  {
   "cell_type": "markdown",
   "metadata": {},
   "source": [
    "## Test for the divide() function"
   ]
  },
  {
   "cell_type": "markdown",
   "metadata": {},
   "source": [
    "This test confirms that divide works with two non-negative integers"
   ]
  },
  {
   "cell_type": "code",
   "execution_count": null,
   "metadata": {},
   "outputs": [],
   "source": [
    "    def test_divide_positive(self):\n",
    "        self.assertEqual(Calculator.divide(10, 2), 5, \"Test failed, divide(10, 2) should equal 5\")"
   ]
  },
  {
   "cell_type": "markdown",
   "metadata": {},
   "source": [
    "This test confirms that divide raises a divide by zero error if the second parameter is 0"
   ]
  },
  {
   "cell_type": "code",
   "execution_count": null,
   "metadata": {},
   "outputs": [],
   "source": [
    "    def test_divide_by_zero_error(self):\n",
    "        with self.assertRaises(ZeroDivisionError,msg=\"Test failed, ZeroDivisionError not raised when dividing by 0\"):\n",
    "            Calculator.divide(1, 0)"
   ]
  },
  {
   "cell_type": "markdown",
   "metadata": {},
   "source": [
    "This test confirms that divide works when the result is not an integer but both parameters are integers (i.e. 3/5 is returned as 0.6)"
   ]
  },
  {
   "cell_type": "code",
   "execution_count": null,
   "metadata": {},
   "outputs": [],
   "source": [
    "    def test_divide_result_type(self):\n",
    "        self.assertEqual(Calculator.divide(3, 5), 0.6, \"Test failed, divide(3, 5) should equal .6\")"
   ]
  },
  {
   "cell_type": "markdown",
   "metadata": {},
   "source": [
    "This test confirms that divide works correctly when both parameters are decimals"
   ]
  },
  {
   "cell_type": "code",
   "execution_count": null,
   "metadata": {},
   "outputs": [],
   "source": [
    "    def test_divide_floating_point_inputs(self):\n",
    "        self.assertEqual(Calculator.divide(1.5, 0.3), 5, \"Test failed, divide(1.5, 0.3) should equal 5\")"
   ]
  },
  {
   "cell_type": "markdown",
   "metadata": {},
   "source": [
    "This test confirms that divide works correctly when both parameters are negative"
   ]
  },
  {
   "cell_type": "code",
   "execution_count": null,
   "metadata": {},
   "outputs": [],
   "source": [
    "    def test_divide_negatives(self):\n",
    "        self.assertEqual(Calculator.divide(-5, -5), 1, \"Test failed, divide(-5, -5) should equal 1\")"
   ]
  },
  {
   "cell_type": "markdown",
   "metadata": {},
   "source": [
    "This test confirms that divide works correctly when one parameter is not a number (we used parameter = math.nan) - we get the expected result of 'nan' when using it as a parameter"
   ]
  },
  {
   "cell_type": "code",
   "execution_count": null,
   "metadata": {},
   "outputs": [],
   "source": [
    "    def test_divide_undefined(self):\n",
    "        self.assertTrue(math.isnan(Calculator.divide(math.nan,1)), msg=\"Test failed, result not nan\")"
   ]
  },
  {
   "cell_type": "markdown",
   "metadata": {},
   "source": [
    "## Testing the pow() function"
   ]
  },
  {
   "cell_type": "markdown",
   "metadata": {},
   "source": [
    "This test confirms that pow() works as expected with two integers:\n",
    "\n",
    "Note: when executing the test, we got this message:\n",
    "\n",
    ">Test failed, pow(3, 2) should equal 9  \n",
    ">9 != None  \n",
    "\n"
   ]
  },
  {
   "cell_type": "code",
   "execution_count": null,
   "metadata": {},
   "outputs": [],
   "source": [
    "    def test_pow_positive(self):\n",
    "        self.assertEqual(Calculator.pow(3, 2), 9, \"Test failed, pow(3, 2) should equal 9\")"
   ]
  },
  {
   "cell_type": "markdown",
   "metadata": {},
   "source": [
    "To handle the error with the Calculator.pow() method, we changed the code to use the python sanctioned operator to facilitate the raising of a number to an exponent (x\\*\\*y) and returning the result of that operation:"
   ]
  },
  {
   "cell_type": "code",
   "execution_count": null,
   "metadata": {},
   "outputs": [],
   "source": [
    "class Calculator: \n",
    "   def add(x, y):\n",
    "      if x is None:\n",
    "         x = 0\n",
    "      if y is None:\n",
    "         y = 0\n",
    "      if isinstance(x,(int,float)) == False or isinstance(y,(int,float)) == False:\n",
    "         raise TypeError(\"Both parameters in the function need to be numeric\")\n",
    "      return x + y\n",
    "\n",
    "   def subtract(x, y):\n",
    "      if x is None:\n",
    "         x = 0\n",
    "      if y is None:\n",
    "         y = 0\n",
    "      if isinstance(x, (int, float)) == False or isinstance(y, (int, float)) == False:\n",
    "         raise TypeError(\"Both parameters in the function need to be numeric\")\n",
    "      return x - y\n",
    "\n",
    "   def multiply(x, y):\n",
    "      if x is None:\n",
    "         x = 0\n",
    "      if y is None:\n",
    "         y = 0\n",
    "      if isinstance(x, (int, float)) == False or isinstance(y, (int, float)) == False:\n",
    "         raise TypeError(\"Both parameters in the function need to be numeric\")\n",
    "      return x * y\n",
    "\n",
    "   def divide(x, y):\n",
    "      if x is None:\n",
    "         x = 0\n",
    "      if y is None:\n",
    "         y = 0\n",
    "      if isinstance(x, (int, float)) == False or isinstance(y, (int, float)) == False:\n",
    "         raise TypeError(\"Both parameters in the function need to be numeric\")\n",
    "      return x / y\n",
    "\n",
    "   def pow(x, y):\n",
    "      if x is None:\n",
    "         x = 0\n",
    "      if y is None:\n",
    "         y = 0\n",
    "      if isinstance(x, (int, float)) == False or isinstance(y, (int, float)) == False:\n",
    "         raise TypeError(\"Both parameters in the function need to be numeric\")\n",
    "      return x**y"
   ]
  },
  {
   "cell_type": "markdown",
   "metadata": {},
   "source": [
    "This test confirms that pow() works as expected with a negative second parameter"
   ]
  },
  {
   "cell_type": "code",
   "execution_count": null,
   "metadata": {},
   "outputs": [],
   "source": [
    "    def test_pow_parameter_2_negative(self):\n",
    "        self.assertEqual(Calculator.pow(2, -3), 0.125, \"Test failed, pow(2, -3) should equal 0.125\")"
   ]
  },
  {
   "cell_type": "markdown",
   "metadata": {},
   "source": [
    "This test confirms that pow() works as expected with a second parameter of zero"
   ]
  },
  {
   "cell_type": "code",
   "execution_count": null,
   "metadata": {},
   "outputs": [],
   "source": [
    "    def test_pow_parameter_2_zero(self):\n",
    "        self.assertEqual(Calculator.pow(3, 0), 1, \"Test failed, pow(3, 0) should equal 1\")"
   ]
  },
  {
   "cell_type": "markdown",
   "metadata": {},
   "source": [
    "This test confirms that pow() works as expected with a second parameter between 0 and 1"
   ]
  },
  {
   "cell_type": "code",
   "execution_count": null,
   "metadata": {},
   "outputs": [],
   "source": [
    "    def test_pow_parameter_2_between_0_and_1(self):\n",
    "        self.assertEqual(Calculator.pow(16, 0.25), 2, \"Test failed, pow(16, 0.25) should equal 2\")"
   ]
  },
  {
   "cell_type": "markdown",
   "metadata": {},
   "source": [
    "This test confirms that pow() works correctly with a first parameter that is negative and a second parameter that is an odd integer"
   ]
  },
  {
   "cell_type": "code",
   "execution_count": null,
   "metadata": {},
   "outputs": [],
   "source": [
    "    def test_pow_parameter1_negative_parameter2_odd(self):\n",
    "        self.assertEqual(Calculator.pow(-2, 3), -8, \"Test failed, pow(-2, 3)) should equal -8\")"
   ]
  },
  {
   "cell_type": "markdown",
   "metadata": {},
   "source": [
    "This test confirms that pow() works correctly with a first parameter that is negative and a second parameter that is an even integer"
   ]
  },
  {
   "cell_type": "code",
   "execution_count": null,
   "metadata": {},
   "outputs": [],
   "source": [
    "    def test_pow_parameter1_negative_parameter2_even(self):\n",
    "        self.assertEqual(Calculator.pow(-2, 2), 4, \"Test failed, pow(-2, 2)) should equal 4\")"
   ]
  },
  {
   "cell_type": "markdown",
   "metadata": {},
   "source": [
    "This test confirms that pow() works correctly with a first parameter of zero"
   ]
  },
  {
   "cell_type": "code",
   "execution_count": null,
   "metadata": {},
   "outputs": [],
   "source": [
    "    def test_pow_parameter1_is_zero(self):\n",
    "        self.assertEqual(Calculator.pow(0, 2), 0, \"Test failed, pow(0, 2) should equal 0\")"
   ]
  },
  {
   "cell_type": "markdown",
   "metadata": {},
   "source": [
    "This test confirms that pow() works correctly with a first parameter between 0 and 1 and a second parameter between 0 and 1"
   ]
  },
  {
   "cell_type": "code",
   "execution_count": null,
   "metadata": {},
   "outputs": [],
   "source": [
    "    def test_pow_parameters_are_positive_floats_less_than_1(self):\n",
    "        self.assertEqual(Calculator.pow(0.0016, 0.25), 0.2, \"Test failed, pow(0.0016, 0.25) should equal 0.2\")"
   ]
  },
  {
   "cell_type": "markdown",
   "metadata": {},
   "source": [
    "This test confirms that pow() works correctly with a first parameter between -1 and 0 and a second parameter between 0 and 1"
   ]
  },
  {
   "cell_type": "code",
   "execution_count": null,
   "metadata": {},
   "outputs": [],
   "source": [
    "    def test_pow_param1_neg_floating_param2_pos_floating(self):\n",
    "        self.assertEqual(Calculator.pow(-0.00032, 0.2), -5, \"Test failed, pow(-0.00032, 0.2) should equal -5\")"
   ]
  },
  {
   "cell_type": "markdown",
   "metadata": {},
   "source": [
    "This test confirms that pow() works correctly with a first parameter between 0 and 1 and a second parameter between -1 and 0"
   ]
  },
  {
   "cell_type": "code",
   "execution_count": null,
   "metadata": {},
   "outputs": [],
   "source": [
    "    def test_pow_param1_pos_floating_param2_neg_floating(self):\n",
    "        self.assertEqual(Calculator.pow(0.00032, -0.2), 5, \"Test failed, pow(0.00032, -0.2) should equal 5\")"
   ]
  },
  {
   "cell_type": "markdown",
   "metadata": {},
   "source": [
    "The following 3 tests failed:\n",
    "* test_pow_param1_neg_floating_param2_neg_floating\n",
    "* test_pow_odd_root_of_negative\n",
    "* test_pow_even_root_of_negative\n",
    "\n",
    "We found that the ** operator seems to just remove the negative from the base when calculating a power equivalent of an odd root of a negative base.  \n",
    "\n",
    "After doing these tests, we remembered that the square root of a negative number should result in an imaginary number.\n",
    "\n",
    "We handled this situation by raising a value error when the base is negative and the exponent value would be the equivalent of taking an even root.  We also removed the negative if the base was negative and the exponent was the equivalent of an odd root, and then we added that negative back into the final result when we returned it.\n"
   ]
  },
  {
   "cell_type": "code",
   "execution_count": 2,
   "metadata": {},
   "outputs": [],
   "source": [
    "\n",
    "    def test_pow_param1_neg_floating_param2_neg_floating(self):\n",
    "        self.assertEqual(Calculator.pow(-0.00032, -0.2), -5, \"Test failed, pow(0.00032, -0.2) should equal -5\")\n",
    "\n",
    "    def test_pow_odd_root_of_negative(self):\n",
    "        difference = abs(Calculator.pow(-6, 0.1111111111111111) - -1.220284936)\n",
    "        self.assertLessEqual(difference, 0.00001, \"Test failed, pow(-6, 1/9) should be within 0.00001 of -1.220284936\")\n",
    "            \n",
    "    def test_pow_even_root_of_negative(self):\n",
    "        with self.assertRaises(ValueError,msg=\"Test failed, Calculator.pow(-6, 0.5) should raise ValueError\"):\n",
    "            Calculator.pow(-6, 0.5)"
   ]
  },
  {
   "cell_type": "markdown",
   "metadata": {},
   "source": [
    "Following is our Calculator class after fixes were applied to make the above tests pass"
   ]
  },
  {
   "cell_type": "code",
   "execution_count": null,
   "metadata": {},
   "outputs": [],
   "source": [
    "class Calculator: \n",
    "   def add(x, y):\n",
    "      if x is None:\n",
    "         x = 0\n",
    "      if y is None:\n",
    "         y = 0\n",
    "      if isinstance(x,(int,float)) == False or isinstance(y,(int,float)) == False:\n",
    "         raise TypeError(\"Both parameters in the function need to be numeric\")\n",
    "      return x + y\n",
    "\n",
    "   def subtract(x, y):\n",
    "      if x is None:\n",
    "         x = 0\n",
    "      if y is None:\n",
    "         y = 0\n",
    "      if isinstance(x, (int, float)) == False or isinstance(y, (int, float)) == False:\n",
    "         raise TypeError(\"Both parameters in the function need to be numeric\")\n",
    "      return x - y\n",
    "\n",
    "   def multiply(x, y):\n",
    "      if x is None:\n",
    "         x = 0\n",
    "      if y is None:\n",
    "         y = 0\n",
    "      if isinstance(x, (int, float)) == False or isinstance(y, (int, float)) == False:\n",
    "         raise TypeError(\"Both parameters in the function need to be numeric\")\n",
    "      return x * y\n",
    "\n",
    "   def divide(x, y):\n",
    "      if x is None:\n",
    "         x = 0\n",
    "      if y is None:\n",
    "         y = 0\n",
    "      if isinstance(x, (int, float)) == False or isinstance(y, (int, float)) == False:\n",
    "         raise TypeError(\"Both parameters in the function need to be numeric\")\n",
    "      return x / y\n",
    "\n",
    "   def pow(x, y):\n",
    "      if x is None:\n",
    "         x = 0\n",
    "          \n",
    "      if y is None:\n",
    "         y = 0\n",
    "          \n",
    "      if isinstance(x, (int, float)) == False or isinstance(y, (int, float)) == False:\n",
    "         raise TypeError(\"Both parameters in the function need to be numeric\")\n",
    "      \n",
    "      negativeToAddBackIn = 1\n",
    "      if x < 0 and abs(y)<1:\n",
    "         exponentFraction = Fraction(y).limit_denominator()\n",
    "         exponentDenominator = exponentFraction.denominator\n",
    "         \n",
    "         isEvenRoot = Calculator.isEven(exponentDenominator)\n",
    "         \n",
    "         if isEvenRoot:\n",
    "            raise ValueError(\"{0} to the {1} power results in an imaginary number which is not supported by this function\".format(x,exponentFraction))\n",
    "         x=x*-1\n",
    "         negativeToAddBackIn=-1\n",
    "         \n",
    "      return negativeToAddBackIn*(x**y)"
   ]
  },
  {
   "cell_type": "markdown",
   "metadata": {},
   "source": [
    "Lastly, we created a function in the Calculator class called \"isEven\" (for use in the pow() function) "
   ]
  },
  {
   "cell_type": "code",
   "execution_count": null,
   "metadata": {},
   "outputs": [],
   "source": [
    "   def isEven(numberToTest):\n",
    "      if isinstance(numberToTest, (int))==False:\n",
    "         return False\n",
    "      if numberToTest%2==0:\n",
    "         return True\n",
    "      \n",
    "      return False "
   ]
  },
  {
   "cell_type": "markdown",
   "metadata": {},
   "source": [
    "....and we created the following tests to test this function"
   ]
  },
  {
   "cell_type": "code",
   "execution_count": 3,
   "metadata": {},
   "outputs": [],
   "source": [
    "\n",
    "    def test_isEven_with_even_number(self):\n",
    "        self.assertTrue(Calculator.isEven(4), \"Test failed, function should return true for 4\")\n",
    "        \n",
    "    def test_isEven_with_odd_number(self):\n",
    "        self.assertFalse(Calculator.isEven(5), \"Test failed, function should return false for 5\")"
   ]
  },
  {
   "cell_type": "markdown",
   "metadata": {},
   "source": [
    "### Complete final test class:"
   ]
  },
  {
   "cell_type": "code",
   "execution_count": null,
   "metadata": {},
   "outputs": [],
   "source": [
    "from CalculatorClass import Calculator\n",
    "import unittest, math\n",
    "\n",
    "class TestCalculatorMethods(unittest.TestCase):\n",
    "\n",
    " # Testing the addition method in the Calculator Class\n",
    "\n",
    "    def test_add_positive(self):\n",
    "        self.assertEqual(Calculator.add(3,5),8,\"Test failed, add(3,5) should equal 8\")\n",
    "        \n",
    "    def test_add_negative(self):\n",
    "        self.assertEqual(Calculator.add(-3,5),2,\"Test failed, add(-3,5) should equal 2\")\n",
    "\n",
    "    def test_add_zero(self):\n",
    "        self.assertEqual(Calculator.add(0,-5),-5,\"Test failed, add(0,-5) should equal -5\")\n",
    "\n",
    "    def test_add_none(self):\n",
    "        self.assertEqual(Calculator.add(None,-5),-5,\"Test failed, add(None,-5) should equal -5\")\n",
    "\n",
    "    def test_add_none_reverse(self):\n",
    "        self.assertEqual(Calculator.add(3,None),3,\"Test failed, add(3,None) should equal -3\")\n",
    "\n",
    "    def test_add_decimals(self):\n",
    "        self.assertEqual(Calculator.add(3.5,3.8),7.3,\"Test failed, add(3.5,3.8) should equal 7.3\")\n",
    "        \n",
    "    def test_add_letters(self):\n",
    "        with self.assertRaises(TypeError,msg=\"Test failed, TypeError not raised when add(3.5,\\\"abc\\\") is called\"):\n",
    "            Calculator.add(3.5,\"abc\")\n",
    "            \n",
    "    def test_add_letters_to_letters(self):\n",
    "        with self.assertRaises(TypeError,msg=\"Test failed, TypeError not raised when add(\\\"def\\\",\\\"abc\\\") is called\"):\n",
    "            Calculator.add(\"def\",\"abc\")\n",
    "\n",
    " # Testing the subtract method in the Calculator Class\n",
    "\n",
    "    def test_subtract_positive(self):\n",
    "        self.assertEqual(Calculator.subtract(3, 5), -2, \"Test failed, subtracting (3,5) should equal -2\")\n",
    "\n",
    "    def test_subtract_none(self):\n",
    "        self.assertEqual(Calculator.subtract(3, None), 3, \"Test failed, subtracting (3,None) should equal 3\")\n",
    "\n",
    "    def test_subtract_decimals(self):\n",
    "        difference = abs(Calculator.subtract(3.8, 3.5) - 0.3)\n",
    "        self.assertLessEqual(difference, 0.001, \"Test failed, subtracting (3.8,3.5) should be within 0.001 of 0.3\")\n",
    "\n",
    "    def test_subtract_letters_from_letters(self):\n",
    "        with self.assertRaises(TypeError, msg=\"Test failed, TypeError not raised when subtracting (\\\"def\\\",\\\"abc\\\") is called\"):\n",
    "            Calculator.subtract(\"def\", \"abc\")\n",
    "\n",
    " # Testing the multiply method in the Calculator Class\n",
    "\n",
    "    def test_multiply_positive(self):\n",
    "        self.assertEqual(Calculator.multiply(3, 5), 15, \"Test failed, multiply(3,5) should equal 15\")\n",
    "\n",
    "    def test_multiply_zero(self):\n",
    "        self.assertEqual(Calculator.multiply(3, 0), 0, \"Test failed, multiply(3,0) should equal 0\")\n",
    "\n",
    "    def test_multiply_one_negative_num(self):\n",
    "        self.assertEqual(Calculator.multiply(3, -5), -15, \"Test failed, multiply(3,-5) should equal -15\")\n",
    "\n",
    "    def test_multiply_two_negative_num(self):\n",
    "        self.assertEqual(Calculator.multiply(-3, -5), 15, \"Test failed, multiply(-3, -5) should equal 15\")\n",
    "\n",
    "    def test_multiply_none(self):\n",
    "        self.assertEqual(Calculator.multiply(None, 5), 0, \"Test failed, multiply(None, 5) should equal 0\")\n",
    "\n",
    "    def test_multiply_strings(self):\n",
    "        with self.assertRaises(TypeError, msg=\"Test failed, TypeError not raised when multiplying (\\\"def\\\",\\\"abc\\\") is called\"):\n",
    "            Calculator.multiply(\"def\", \"abc\")\n",
    "\n",
    "    def test_multiply_list(self):\n",
    "        with self.assertRaises(TypeError, msg=\"Test failed, TypeError not raised when multiplying (\\\"def\\\",\\\"abc\\\") is called\"):\n",
    "            Calculator.multiply([2,3,4], 1)\n",
    "\n",
    "# Testing the divide method in the Calculator Class\n",
    "\n",
    "    def test_divide_positive(self):\n",
    "        self.assertEqual(Calculator.divide(10, 2), 5, \"Test failed, divide(10, 2) should equal 5\")\n",
    "\n",
    "    def test_divide_by_zero_error(self):\n",
    "        with self.assertRaises(ZeroDivisionError,msg=\"Test failed, ZeroDivisionError not raised when dividing by 0\"):\n",
    "            Calculator.divide(1, 0)\n",
    "\n",
    "    def test_divide_result_type(self):\n",
    "        self.assertEqual(Calculator.divide(3, 5), 0.6, \"Test failed, divide(3, 5) should equal .6\")\n",
    "\n",
    "    def test_divide_floating_point_inputs(self):\n",
    "        self.assertEqual(Calculator.divide(1.5, 0.3), 5, \"Test failed, divide(1.5, 0.3) should equal 5\")\n",
    "\n",
    "    def test_divide_negatives(self):\n",
    "        self.assertEqual(Calculator.divide(-5, -5), 1, \"Test failed, divide(-5, -5) should equal 1\")\n",
    "\n",
    "    def test_divide_undefined(self):\n",
    "        self.assertTrue(math.isnan(Calculator.divide(math.nan,1)), msg=\"Test failed, result not nan\")\n",
    "\n",
    "# Testing the \"pow\" (power) method in the Calculator Class\n",
    "\n",
    "    def test_pow_positive(self):\n",
    "        self.assertEqual(Calculator.pow(3, 2), 9, \"Test failed, pow(3, 2) should equal 9\")\n",
    "\n",
    "    def test_pow_parameter_2_negative(self):\n",
    "        self.assertEqual(Calculator.pow(2, -3), 0.125, \"Test failed, pow(2, -3) should equal 0.125\")\n",
    "\n",
    "    def test_pow_parameter_2_zero(self):\n",
    "        self.assertEqual(Calculator.pow(3, 0), 1, \"Test failed, pow(3, 0) should equal 1\")\n",
    "\n",
    "    def test_pow_parameter_2_between_0_and_1(self):\n",
    "        self.assertEqual(Calculator.pow(16, 0.25), 2, \"Test failed, pow(16, 0.25) should equal 2\")\n",
    "\n",
    "    def test_pow_parameter1_negative_parameter2_odd(self):\n",
    "        self.assertEqual(Calculator.pow(-2, 3), -8, \"Test failed, pow(-2, 3)) should equal -8\")\n",
    "\n",
    "    def test_pow_parameter1_negative_parameter2_even(self):\n",
    "        self.assertEqual(Calculator.pow(-2, 2), 4, \"Test failed, pow(-2, 2)) should equal 4\")\n",
    "\n",
    "    def test_pow_parameter1_is_zero(self):\n",
    "        self.assertEqual(Calculator.pow(0, 2), 0, \"Test failed, pow(0, 2) should equal 0\")\n",
    "\n",
    "    def test_pow_parameters_are_positive_floats_less_than_1(self):\n",
    "        self.assertEqual(Calculator.pow(0.0016, 0.25), 0.2, \"Test failed, pow(0.0016, 0.25) should equal 0.2\")\n",
    "\n",
    "    def test_pow_param1_pos_floating_param2_neg_floating(self):\n",
    "        self.assertEqual(Calculator.pow(0.00032, -0.2), 5, \"Test failed, pow(0.00032, -0.2) should equal 5\")\n",
    "\n",
    "    def test_pow_param1_neg_floating_param2_neg_floating(self):\n",
    "        self.assertEqual(Calculator.pow(-0.00032, -0.2), -5, \"Test failed, pow(0.00032, -0.2) should equal -5\")\n",
    "\n",
    "    def test_pow_odd_root_of_negative(self):\n",
    "        difference = abs(Calculator.pow(-6, 0.1111111111111111) - -1.220284936)\n",
    "        self.assertLessEqual(difference, 0.00001, \"Test failed, pow(-6, 1/9) should be within 0.00001 of -1.220284936\")\n",
    "            \n",
    "    def test_pow_even_root_of_negative(self):\n",
    "        with self.assertRaises(ValueError,msg=\"Test failed, Calculator.pow(-6, 0.5) should raise ValueError\"):\n",
    "            Calculator.pow(-6, 0.5)\n",
    "\n",
    "# Testing the \"isEven\" function in the Calculator Class\n",
    "\n",
    "    def test_isEven_with_even_number(self):\n",
    "        self.assertTrue(Calculator.isEven(4), \"Test failed, function should return true for 4\")\n",
    "        \n",
    "    def test_isEven_with_odd_number(self):\n",
    "        self.assertFalse(Calculator.isEven(5), \"Test failed, function should return false for 5\")\n",
    "        \n",
    "        \n",
    "if __name__ == '__main__':\n",
    "    unittest.main()\n"
   ]
  },
  {
   "cell_type": "markdown",
   "metadata": {},
   "source": [
    "### Complete final Calculator class:"
   ]
  },
  {
   "cell_type": "code",
   "execution_count": null,
   "metadata": {},
   "outputs": [],
   "source": [
    "import math\n",
    "from fractions import Fraction\n",
    "\n",
    "class Calculator: \n",
    "   def add(x, y):\n",
    "      if x is None:\n",
    "         x = 0\n",
    "      if y is None:\n",
    "         y = 0\n",
    "      if isinstance(x,(int,float)) == False or isinstance(y,(int,float)) == False:\n",
    "         raise TypeError(\"Both parameters in the function need to be numeric\")\n",
    "      return x + y\n",
    "\n",
    "   def subtract(x, y):\n",
    "      if x is None:\n",
    "         x = 0\n",
    "      if y is None:\n",
    "         y = 0\n",
    "      if isinstance(x, (int, float)) == False or isinstance(y, (int, float)) == False:\n",
    "         raise TypeError(\"Both parameters in the function need to be numeric\")\n",
    "      return x - y\n",
    "\n",
    "   def multiply(x, y):\n",
    "      if x is None:\n",
    "         x = 0\n",
    "      if y is None:\n",
    "         y = 0\n",
    "      if isinstance(x, (int, float)) == False or isinstance(y, (int, float)) == False:\n",
    "         raise TypeError(\"Both parameters in the function need to be numeric\")\n",
    "      return x * y\n",
    "\n",
    "   def divide(x, y):\n",
    "      if x is None:\n",
    "         x = 0\n",
    "      if y is None:\n",
    "         y = 0\n",
    "      if isinstance(x, (int, float)) == False or isinstance(y, (int, float)) == False:\n",
    "         raise TypeError(\"Both parameters in the function need to be numeric\")\n",
    "      return x / y\n",
    "\n",
    "   def isEven(numberToTest):\n",
    "      if isinstance(numberToTest, (int))==False:\n",
    "         return False\n",
    "      if numberToTest%2==0:\n",
    "         return True\n",
    "      \n",
    "      return False \n",
    "\n",
    "   def pow(x, y):\n",
    "      if x is None:\n",
    "         x = 0\n",
    "          \n",
    "      if y is None:\n",
    "         y = 0\n",
    "          \n",
    "      if isinstance(x, (int, float)) == False or isinstance(y, (int, float)) == False:\n",
    "         raise TypeError(\"Both parameters in the function need to be numeric\")\n",
    "      \n",
    "      negativeToAddBackIn = 1\n",
    "      if x < 0 and abs(y)<1:\n",
    "         exponentFraction = Fraction(y).limit_denominator()\n",
    "         exponentDenominator = exponentFraction.denominator\n",
    "         \n",
    "         isEvenRoot = Calculator.isEven(exponentDenominator)\n",
    "         \n",
    "         if isEvenRoot:\n",
    "            raise ValueError(\"{0} to the {1} power results in an imaginary number which is not supported by this function\".format(x,exponentFraction))\n",
    "         x=x*-1\n",
    "         negativeToAddBackIn=-1\n",
    "         \n",
    "      return negativeToAddBackIn*(x**y)\n"
   ]
  },
  {
   "cell_type": "markdown",
   "metadata": {},
   "source": [
    "### Sidenote:\n",
    "\n",
    "Floating point errors caused us a lot of problems when testing values very close to zero in the pow function.  These errors were consequential when testing the pow function and they did not seem to be deterministic so we just avoided testing very close to zero, especially with the base parameter."
   ]
  }
 ],
 "metadata": {
  "kernelspec": {
   "display_name": "Python 3",
   "language": "python",
   "name": "python3"
  },
  "language_info": {
   "codemirror_mode": {
    "name": "ipython",
    "version": 3
   },
   "file_extension": ".py",
   "mimetype": "text/x-python",
   "name": "python",
   "nbconvert_exporter": "python",
   "pygments_lexer": "ipython3",
   "version": "3.8.3"
  }
 },
 "nbformat": 4,
 "nbformat_minor": 4
}
